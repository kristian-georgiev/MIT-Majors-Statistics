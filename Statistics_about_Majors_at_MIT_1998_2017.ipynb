{
 "cells": [
  {
   "cell_type": "markdown",
   "metadata": {},
   "source": [
    "# MIT Undergraduate Majors Statistics 1998-2017 (Number of Degrees Awarded)"
   ]
  },
  {
   "cell_type": "markdown",
   "metadata": {},
   "source": [
    "We base the following plots on the data posted in the [registrar website](http://web.mit.edu/registrar/stats/degrees/index.html)."
   ]
  },
  {
   "cell_type": "code",
   "execution_count": 1,
   "metadata": {},
   "outputs": [],
   "source": [
    "import pandas as pd\n",
    "import numpy as np"
   ]
  },
  {
   "cell_type": "code",
   "execution_count": 2,
   "metadata": {},
   "outputs": [
    {
     "name": "stdout",
     "output_type": "stream",
     "text": [
      "01 http://web.mit.edu/registrar/stats/degrees/deg0001.html\n",
      "02 http://web.mit.edu/registrar/stats/degrees/deg0102.html\n",
      "03 http://web.mit.edu/registrar/stats/degrees/deg0203.html\n",
      "04 http://web.mit.edu/registrar/stats/degrees/deg0304.html\n",
      "05 http://web.mit.edu/registrar/stats/degrees/deg0405.html\n",
      "06 http://web.mit.edu/registrar/stats/degrees/deg0506.html\n",
      "07 http://web.mit.edu/registrar/stats/degrees/deg0607.html\n",
      "08 http://web.mit.edu/registrar/stats/degrees/deg0708.html\n",
      "09 http://web.mit.edu/registrar/stats/degrees/deg0809.html\n",
      "10 http://web.mit.edu/registrar/stats/degrees/deg0910.html\n",
      "11 http://web.mit.edu/registrar/stats/degrees/deg1011.html\n",
      "12 http://web.mit.edu/registrar/stats/degrees/deg1112.html\n",
      "13 http://web.mit.edu/registrar/stats/degrees/deg1213.html\n",
      "14 http://web.mit.edu/registrar/stats/degrees/deg1314.html\n",
      "15 http://web.mit.edu/registrar/stats/degrees/deg1415.html\n",
      "16 http://web.mit.edu/registrar/stats/degrees/deg1516.html\n"
     ]
    }
   ],
   "source": [
    "# we start by importing the tables from the registrar and converting them to pandas DataFrames\n",
    "dict_df = {}\n",
    "dict_df[\"99\"] = pd.read_html(\"http://web.mit.edu/registrar/stats/degrees/deg9899.html\")[0]\n",
    "dict_df[\"00\"] = pd.read_html(\"http://web.mit.edu/registrar/stats/degrees/deg9900.html\")[0]\n",
    "for i in range(16):\n",
    "    ind = '{:02}'.format(i)\n",
    "    indp1 = '{:02}'.format(i+1)\n",
    "    url = \"http://web.mit.edu/registrar/stats/degrees/deg\"+ind+indp1+\".html\"\n",
    "    print(indp1,url)\n",
    "    dict_df[indp1] = pd.read_html(url)[0]\n",
    "dict_df[\"17\"] = pd.read_html(\"http://web.mit.edu/registrar/stats/degrees/index.html\")[0]"
   ]
  },
  {
   "cell_type": "markdown",
   "metadata": {},
   "source": [
    "Now we clean the datasets in order to make them suitable for statistical purposes."
   ]
  },
  {
   "cell_type": "code",
   "execution_count": 3,
   "metadata": {},
   "outputs": [
    {
     "name": "stdout",
     "output_type": "stream",
     "text": [
      "99\n",
      "00\n",
      "01\n",
      "02\n",
      "03\n",
      "04 did not complete\n",
      "05\n",
      "06 did not complete\n",
      "07 did not complete\n",
      "08\n",
      "09\n",
      "10\n",
      "11\n",
      "12\n",
      "13\n",
      "14\n",
      "15\n",
      "16\n",
      "17\n"
     ]
    }
   ],
   "source": [
    "for df in dict_df:\n",
    "    i = 0\n",
    "    n = len(dict_df[df])\n",
    "    while True:\n",
    "        i += 1\n",
    "        if i == n:\n",
    "            print(df,\"did not complete\")\n",
    "            break\n",
    "        elif (type(dict_df[df].loc[i][0]) == type(\"SCHOOL\")) and (\"SCHOOL OF ARCHITECTURE\" in dict_df[df].loc[i][0]):\n",
    "            print(df)\n",
    "            dict_df[df].drop(dict_df[df].index[:i+1], inplace=True)\n",
    "            dict_df[df].reset_index(drop=True, inplace=True)\n",
    "            break"
   ]
  },
  {
   "cell_type": "code",
   "execution_count": 4,
   "metadata": {},
   "outputs": [],
   "source": [
    "dict_df[\"04\"] = dict_df[\"04\"].iloc[7:]\n",
    "dict_df[\"04\"].reset_index(drop=True, inplace=True)\n",
    "dict_df[\"06\"] = dict_df[\"06\"].iloc[7:]\n",
    "dict_df[\"06\"].reset_index(drop=True, inplace=True)\n",
    "dict_df[\"07\"] = dict_df[\"07\"].iloc[7:]\n",
    "dict_df[\"07\"].reset_index(drop=True, inplace=True)\n"
   ]
  },
  {
   "cell_type": "code",
   "execution_count": 5,
   "metadata": {},
   "outputs": [],
   "source": [
    "# align columns before 2006-2007 with the ones after\n",
    "flag = 0\n",
    "for df in dict_df:\n",
    "    if df == \"08\":\n",
    "        flag = 1\n",
    "    if flag == 0:\n",
    "        dict_df[df] = dict_df[df][[1,2]]\n",
    "    else:\n",
    "        dict_df[df] = dict_df[df][[0,1]]"
   ]
  },
  {
   "cell_type": "code",
   "execution_count": 6,
   "metadata": {},
   "outputs": [],
   "source": [
    "import warnings\n",
    "warnings.filterwarnings('ignore')"
   ]
  },
  {
   "cell_type": "code",
   "execution_count": 7,
   "metadata": {},
   "outputs": [],
   "source": [
    "for df in dict_df:\n",
    "    dict_df[df].columns = ['Major', 'Num_of_Undergrad_Degrees']\n",
    "    dict_df[df].replace('-', 0, inplace = True)\n",
    "    dict_df[df].dropna(inplace = True)\n",
    "    dict_df[df].Num_of_Undergrad_Degrees = dict_df[df].Num_of_Undergrad_Degrees.astype(int)\n",
    "    dict_df[df] = dict_df[df][dict_df[df].Major != \"Total\"]\n",
    "    dict_df[df] = dict_df[df][dict_df[df].Major != \"Grand Total\"]"
   ]
  },
  {
   "cell_type": "markdown",
   "metadata": {},
   "source": [
    "Finally, we will remove all the majors that have $0$ students accross all years."
   ]
  },
  {
   "cell_type": "code",
   "execution_count": 8,
   "metadata": {},
   "outputs": [],
   "source": [
    "# TODO"
   ]
  },
  {
   "cell_type": "markdown",
   "metadata": {},
   "source": [
    "## Plotting"
   ]
  },
  {
   "cell_type": "code",
   "execution_count": 9,
   "metadata": {},
   "outputs": [],
   "source": [
    "from matplotlib import pyplot as plt"
   ]
  },
  {
   "cell_type": "code",
   "execution_count": 10,
   "metadata": {},
   "outputs": [],
   "source": [
    "# TODO"
   ]
  },
  {
   "cell_type": "code",
   "execution_count": 11,
   "metadata": {
    "scrolled": true
   },
   "outputs": [
    {
     "data": {
      "text/plain": [
       "<Container object of 87 artists>"
      ]
     },
     "execution_count": 11,
     "metadata": {},
     "output_type": "execute_result"
    },
    {
     "data": {
      "image/png": "[encoded data removed]",
      "text/plain": [
       "<matplotlib.figure.Figure at 0x7f6206750278>"
      ]
     },
     "metadata": {},
     "output_type": "display_data"
    }
   ],
   "source": [
    "plt.bar(dict_df[\"17\"].Major,dict_df[\"17\"].Num_of_Undergrad_Degrees)"
   ]
  },
  {
   "cell_type": "code",
   "execution_count": 12,
   "metadata": {},
   "outputs": [],
   "source": [
    "course6_evolution = []\n",
    "for df in dict_df:\n",
    "    course6_evolution.append(dict_df[df][dict_df[df][\"Major\"].str.contains(\"Computer Science\")].Num_of_Undergrad_Degrees.sum())"
   ]
  },
  {
   "cell_type": "code",
   "execution_count": 13,
   "metadata": {},
   "outputs": [
    {
     "data": {
      "text/plain": [
       "[172,\n",
       " 319,\n",
       " 317,\n",
       " 326,\n",
       " 321,\n",
       " 335,\n",
       " 256,\n",
       " 209,\n",
       " 191,\n",
       " 228,\n",
       " 204,\n",
       " 185,\n",
       " 199,\n",
       " 211,\n",
       " 242,\n",
       " 321,\n",
       " 320,\n",
       " 375,\n",
       " 420]"
      ]
     },
     "execution_count": 13,
     "metadata": {},
     "output_type": "execute_result"
    }
   ],
   "source": [
    "course6_evolution"
   ]
  },
  {
   "cell_type": "code",
   "execution_count": 14,
   "metadata": {},
   "outputs": [
    {
     "data": {
      "text/plain": [
       "[<matplotlib.lines.Line2D at 0x7f620678ccc0>]"
      ]
     },
     "execution_count": 14,
     "metadata": {},
     "output_type": "execute_result"
    },
    {
     "data": {
      "image/png": "[encoded data removed]",
      "text/plain": [
       "<matplotlib.figure.Figure at 0x7f6206876c88>"
      ]
     },
     "metadata": {},
     "output_type": "display_data"
    }
   ],
   "source": [
    "plt.plot(course6_evolution)"
   ]
  },
  {
   "cell_type": "code",
   "execution_count": 15,
   "metadata": {},
   "outputs": [],
   "source": [
    "# TODO, look at percentages, other trends, and so on, make actual graphs, possibly interactive"
   ]
  }
 ],
 "metadata": {
  "kernelspec": {
   "display_name": "Python 3",
   "language": "python",
   "name": "python3"
  },
  "language_info": {
   "codemirror_mode": {
    "name": "ipython",
    "version": 3
   },
   "file_extension": ".py",
   "mimetype": "text/x-python",
   "name": "python",
   "nbconvert_exporter": "python",
   "pygments_lexer": "ipython3",
   "version": "3.6.3"
  },
  "toc": {
   "nav_menu": {},
   "number_sections": true,
   "sideBar": true,
   "skip_h1_title": false,
   "title_cell": "Table of Contents",
   "title_sidebar": "Contents",
   "toc_cell": false,
   "toc_position": {},
   "toc_section_display": true,
   "toc_window_display": false
  }
 },
 "nbformat": 4,
 "nbformat_minor": 2
}
